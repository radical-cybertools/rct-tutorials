{
 "cells": [
  {
   "cell_type": "markdown",
   "id": "6de66e16",
   "metadata": {},
   "source": [
    "# Parsl and RADICAL-Pilot Integration\n",
    "\n",
    "RADICAL-Pilot (RP) is a runtime system that enables the execution of heterogeneous (funtions and executables) MPI workloads on heterogeneous (GPUs and CPUs) HPC resources. The integration of Parsl and RP (RPEX) allows RP to benefit from Parsl flexible programming model and its workflow management capabilities to build dynamic workflows. Additionally, RadicalPilotExecutor benefits Parsl by offering the heterogeneous runtime capabilities of RP to support many MPI computations more efficiently."
   ]
  },
  {
   "cell_type": "markdown",
   "id": "4a1580ee",
   "metadata": {},
   "source": [
    "First and as a best practice, let's ensure RADICAL-Pilot and Parsl exist in the notebook environment."
   ]
  },
  {
   "cell_type": "code",
   "execution_count": null,
   "id": "ba1877d8",
   "metadata": {
    "ExecuteTime": {
     "end_time": "2022-11-22T12:17:48.357841Z",
     "start_time": "2022-11-22T12:17:47.458237Z"
    }
   },
   "outputs": [],
   "source": [
    "!pip show parsl && echo \"==============\" && ! radical-stack"
   ]
  },
  {
   "cell_type": "markdown",
   "id": "a98b8cb5",
   "metadata": {},
   "source": [
    "Next, we locate the installed `nwchem` executable in our environment. We install it from conda-forge into the local Python environment if it is unavailable."
   ]
  },
  {
   "cell_type": "code",
   "execution_count": null,
   "id": "84004f91",
   "metadata": {},
   "outputs": [],
   "source": [
    "nwchem_path = !which nwchem\n",
    "\n",
    "if not nwchem_path:\n",
    "    import sys\n",
    "    !conda install --yes --prefix {sys.prefix} -c conda-forge nwchem openmpi\n",
    "    nwchem_path = !which nwchem\n",
    "\n",
    "nwchem = nwchem_path[0]"
   ]
  },
  {
   "cell_type": "markdown",
   "id": "bbf6a6d1",
   "metadata": {},
   "source": [
    "## Example: MPI NWChem Workload\n",
    "\n",
    "The following example application shows the execution of MP2 geometry optimization followed by a CCSD(T) energy evaluation at the converged geometry. A Dunning correlation-consistent triple-zeta basis is used. The default of Cartesian basis functions must be overridden using the keyword spherical on the BASIS directive. The 1s core orbitals are frozen in both the MP2 and coupled-cluster calculations (note that these must separately specified)."
   ]
  },
  {
   "cell_type": "markdown",
   "id": "39d40bda",
   "metadata": {},
   "source": [
    "First, we import the Parsl and RP Python modules in our application, alongside the RadicalPilotExecutor (RPEX) from Parsl"
   ]
  },
  {
   "cell_type": "code",
   "execution_count": null,
   "id": "77692350",
   "metadata": {
    "ExecuteTime": {
     "end_time": "2022-11-22T12:17:57.635805Z",
     "start_time": "2022-11-22T12:17:57.340827Z"
    }
   },
   "outputs": [],
   "source": [
    "import parsl\n",
    "import radical.pilot as rp\n",
    "\n",
    "from parsl.config import Config\n",
    "from parsl.app.app import bash_app\n",
    "from parsl.executors.radical import ResourceConfig\n",
    "from parsl.executors.radical import RadicalPilotExecutor"
   ]
  },
  {
   "cell_type": "markdown",
   "id": "1290100d",
   "metadata": {},
   "source": [
    "`RadicalPilotExecutor` is capable of executing both functions and executables concurrently. The functions execution layer is based on the manager-worker paradigm. The managers are responsible for managing a set of workers and can execute function tasks as well. In contrast, the workers are only responsible for the function tasks execution. The manager-worker paradigm requires a set of input parameters for resource distribution, such as:\n",
    "1. Number of managers and workers per node\n",
    "2. Number of ranks per manager and worker.\n",
    "3. Number of nodes per manager and worker.\n",
    "4. Etc.\n",
    "\n",
    "In order to specify this information, we use a configuration class `ResourceConfig` that describes these parameters and pass it to `RadicalPilotExecutor`. In the cell below, we ask `RadicalPilotExecutor` to allocate 8 cores for all tasks."
   ]
  },
  {
   "cell_type": "code",
   "execution_count": null,
   "id": "fde1d4f1",
   "metadata": {},
   "outputs": [],
   "source": [
    "rpex_cfg = ResourceConfig()\n",
    "\n",
    "config = Config(executors=[RadicalPilotExecutor(\n",
    "                           rpex_cfg=rpex_cfg,\n",
    "                           label='RPEX-MPI',\n",
    "                           resource='local.localhost_test',\n",
    "                           runtime=30, cores=8)])\n",
    "\n",
    "radical_executor = config.executors[0]\n",
    "\n",
    "parsl.load(config)"
   ]
  },
  {
   "cell_type": "markdown",
   "id": "6a6f2135",
   "metadata": {},
   "source": [
    "Create a simple Parsl `@bash_app` to invoke the `NWChem` task. The `bash_app` requires the type of the task and the number of `ranks` on which to run. In this case, the type of the task is `MPI` as the number of `ranks` (processes) is 2, where each rank takes 1 core.\n",
    "\n",
    "Once the `bash_app` (executable task) is invoked, the `RadicalPilotExecutor` submits the task to the runtime system and wait for them to be executed. Finally we obtain the task.stdout by specifying the `stdout` keyword when we create/invoke the `bash_app`."
   ]
  },
  {
   "cell_type": "code",
   "execution_count": null,
   "id": "ad3e90a9",
   "metadata": {},
   "outputs": [],
   "source": [
    "@bash_app\n",
    "def nwchem_mp2_optimization(stdout='nwchem.stdout',\n",
    "                            parsl_resource_specification={'ranks':2,\n",
    "                                                          'mode': rp.TASK_EXECUTABLE}):\n",
    "\n",
    "    import os\n",
    "\n",
    "    input = \"\"\"\n",
    "    start n2\n",
    "\n",
    "    geometry\n",
    "      symmetry d2h\n",
    "      n 0 0 0.542\n",
    "    end\n",
    "\n",
    "    basis spherical\n",
    "      n library cc-pvtz\n",
    "    end\n",
    "\n",
    "    mp2\n",
    "      freeze core\n",
    "    end\n",
    "\n",
    "    task mp2 optimize\n",
    "\n",
    "    ccsd\n",
    "      freeze core\n",
    "    end\n",
    "\n",
    "    task ccsd(t)\n",
    "    \"\"\"\n",
    "\n",
    "    nwchem_input = os.path.join(os.getcwd(), 'mp2_optimization.nw')\n",
    "\n",
    "    with open(nwchem_input,'w+') as f:\n",
    "        f.writelines(input)\n",
    "\n",
    "    return '{0} {1}'.format(nwchem, nwchem_input)"
   ]
  },
  {
   "cell_type": "code",
   "execution_count": null,
   "id": "bbbc2800",
   "metadata": {},
   "outputs": [],
   "source": [
    "# invoke the nwchem_mp2_optimization\n",
    "future  = nwchem_mp2_optimization()\n",
    "\n",
    "# wait for the results of the NWChem task.\n",
    "future.result()\n",
    "\n",
    "! echo \"nwchem_mp2_optimization output:\" && cat nwchem.stdout"
   ]
  },
  {
   "cell_type": "markdown",
   "id": "e198583e",
   "metadata": {},
   "source": [
    "Finally, shutdown the executor, otherwise it will always stays ready to get more tasks"
   ]
  },
  {
   "cell_type": "code",
   "execution_count": null,
   "id": "6d044d15-3678-4d0f-9e36-d4bd50664689",
   "metadata": {},
   "outputs": [],
   "source": [
    "radical_executor.shutdown()"
   ]
  }
 ],
 "metadata": {
  "kernelspec": {
   "display_name": "Python 3 (ipykernel)",
   "language": "python",
   "name": "python3"
  },
  "language_info": {
   "codemirror_mode": {
    "name": "ipython",
    "version": 3
   },
   "file_extension": ".py",
   "mimetype": "text/x-python",
   "name": "python",
   "nbconvert_exporter": "python",
   "pygments_lexer": "ipython3",
   "version": "3.8.10"
  },
  "varInspector": {
   "cols": {
    "lenName": 16,
    "lenType": 16,
    "lenVar": 40
   },
   "kernels_config": {
    "python": {
     "delete_cmd_postfix": "",
     "delete_cmd_prefix": "del ",
     "library": "var_list.py",
     "varRefreshCmd": "print(var_dic_list())"
    },
    "r": {
     "delete_cmd_postfix": ") ",
     "delete_cmd_prefix": "rm(",
     "library": "var_list.r",
     "varRefreshCmd": "cat(var_dic_list()) "
    }
   },
   "types_to_exclude": [
    "module",
    "function",
    "builtin_function_or_method",
    "instance",
    "_Feature"
   ],
   "window_display": false
  }
 },
 "nbformat": 4,
 "nbformat_minor": 5
}
