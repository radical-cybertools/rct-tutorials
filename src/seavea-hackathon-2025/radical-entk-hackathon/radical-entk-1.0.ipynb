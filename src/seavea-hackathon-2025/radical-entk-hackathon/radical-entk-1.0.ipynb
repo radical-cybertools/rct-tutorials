{
 "cells": [
  {
   "cell_type": "markdown",
   "id": "77f680e6",
   "metadata": {},
   "source": [
    "# RADICAL-Cybertools Tutorial\n",
    "\n",
    "RADICAL-Cybertools support the execution of ensemble applications at scale on high performance computing (HPC) platforms. Ensemble applications enable using diverse algorithms to coordinate the execution of up to $10^6$ tasks on all the processors (CPU/GPU) of an HPC machine. This type of applications are common in biophysical systems, climate science, seismology, and polar science domains. RADICAL-Cybertools address challenges of scale, diversity and reliability.\n",
    "\n",
    "Adaptive ensemble are a particularly interesting type of ensemble applications in which adaptivity is used to determine the behavior of the application at runtime. For example, many biomolecular sampling algorithms are formulated as adaptive: replica-exchange, Expanded Ensemble, etc. Introducing adaptivity, improved simulation efficiency of up to a factor three, but implementing adaptive ensemble applications is challenging due to the complexity of the required algorithms."
   ]
  },
  {
   "cell_type": "markdown",
   "id": "0718844a",
   "metadata": {},
   "source": [
    "## RADICAL-EnTK (Ensemble Toolkit)\n",
    "\n",
    "RADICAL-Cybertools offers [RADICAL-EnTK (Ensemble Toolkit)](https://radicalentk.readthedocs.io), a workflow engine specifically designed to support the execution of (adaptive) ensemble applications at scale on HPC platforms. EnTK allows users to separate adaptive logic and simulation/analysis code, while abstracting away from the users issues of resource management and resource management and runtime execution coordination. \n",
    "\n",
    "EnTK exposes a simple application programming interface (API), implemented in Python and with two (Pythonic) collections of objects and three classes:\n",
    "* Set: contains objects that have no relative order with each other\n",
    "* Sequence/List: contains objects that have a linear order, i.e. object 'i' depends on object 'i-1'\n",
    "* Task: description of executing kernel\n",
    "* Stage: set of Tasks, i.e. all tasks of a stage may execute concurrently\n",
    "* Pipeline: sequence of Stages, i.e., Stage 2 may only commence after Stage 1 completes\n",
    "\n",
    "Thus, in EnTK an ensemble application is described as a set of pipelines, in which each pipiline has a sequence/list of stages, and each stage has a set of tasks. The following figure shows an example of ensemble application in which tasks are represented by arrows:\n",
    "\n",
    "<img src=\"./images/entk-pst-model.png\" width=\"350\"/>"
   ]
  },
  {
   "cell_type": "markdown",
   "id": "4a1580ee",
   "metadata": {},
   "source": [
    "## Preparing the Execution Environment\n",
    "\n",
    "Depending on the execution environment, you may want to use the Spack package or the container provided by Exaworks SDK, or load the module provided by the administrators of the HPC platform on which you are executing this tutorial."
   ]
  },
  {
   "cell_type": "code",
   "execution_count": null,
   "id": "ba1877d8",
   "metadata": {
    "ExecuteTime": {
     "end_time": "2022-11-22T12:17:48.357841Z",
     "start_time": "2022-11-22T12:17:47.458237Z"
    }
   },
   "outputs": [],
   "source": [
    "!radical-stack"
   ]
  },
  {
   "cell_type": "markdown",
   "id": "bbf6a6d1",
   "metadata": {},
   "source": [
    "# Example: Ensemble of Simulation Pipelines\n",
    "\n",
    "The following example application shows the execution of a simple ensemble of simulations. Each ensemble member is in itself a pipeline of **three** different stages:\n",
    "\n",
    "1. **\"seed\"**: generate a random seed as input data\n",
    "2. **\"simulate\"**: evolve a model based on that input data via a set of ensembles\n",
    "3. **\"analyse\"**: derive a common metric across the model results\n",
    "\n",
    "Similar patterns are frequently found in molecular dynamics simulation workflows. For the purpose of this tutorial, the stages are:\n",
    "\n",
    "- random seed: create a random number\n",
    "- evolve model: N tasks computing n'th power of the input\n",
    "- common metric: sum over all 'model' outputs\n",
    "\n",
    "The final results are then staged back and printed on STDOUT.\n",
    "\n",
    "The **two** pipelines execute concurrently and, as per EnTK API definitions, each stage inside each pipeline executes sequentially. Importantly, when a stage contains **multiple** tasks, all those tasks can execute concurrently, assuming that enough resources are available. Given a set of resources, EnTK always executes the ensemble application with the highest possible degree of concurrency but, when not enough resources are available, the tasks of a stage may be executed sequentially. All this is transparent to the user that is left free to focus on the ensemble algorithm without having to deal with parallelism and resource management."
   ]
  },
  {
   "cell_type": "markdown",
   "id": "39d40bda",
   "metadata": {},
   "source": [
    "First we import EnTK Python module in our application so to be able to use its API."
   ]
  },
  {
   "cell_type": "code",
   "execution_count": null,
   "id": "77692350",
   "metadata": {
    "ExecuteTime": {
     "end_time": "2022-11-22T12:17:57.635805Z",
     "start_time": "2022-11-22T12:17:57.340827Z"
    }
   },
   "outputs": [],
   "source": [
    "import radical.entk as re"
   ]
  },
  {
   "cell_type": "markdown",
   "id": "a31dfd5c",
   "metadata": {},
   "source": [
    "The following function generates a single simulation pipeline, i.e., a new ensemble member. The pipeline structure consisting of three steps as described above."
   ]
  },
  {
   "cell_type": "code",
   "execution_count": null,
   "id": "014a57f3-2f78-443c-b945-def54ac6e02c",
   "metadata": {},
   "outputs": [],
   "source": [
    "def get_stage_1(sandbox):\n",
    "    '''\n",
    "    first stage: create 1 task to generate a random seed number\n",
    "    '''\n",
    "    \n",
    "    s1 = re.Stage()\n",
    "\n",
    "    t1 = re.Task()\n",
    "    t1.executable = '/bin/sh'\n",
    "    t1.arguments  = ['-c', 'od -An -N1 -i /dev/random']\n",
    "    t1.stdout     = 'random.txt'\n",
    "    t1.sandbox    = sandbox\n",
    "\n",
    "    s1.add_tasks(t1)\n",
    "    return s1"
   ]
  },
  {
   "cell_type": "code",
   "execution_count": null,
   "id": "de20a02b-4ed9-4023-a6aa-b4d8b3885ad3",
   "metadata": {},
   "outputs": [],
   "source": [
    "def get_stage_2(sandbox):\n",
    "    '''\n",
    "    second stage: create 10 tasks to compute the n'th power of a random seed\n",
    "    '''\n",
    "    \n",
    "    s2 = re.Stage()\n",
    "\n",
    "    n_simulations = 5\n",
    "    for i in range(n_simulations):\n",
    "        t2 = re.Task()\n",
    "        t2.executable = '/bin/sh'\n",
    "        t2.arguments  = ['-c', \"echo '$(cat random.txt) ^ %d' | bc\" % i]\n",
    "        t2.stdout     = 'power.%03d.txt' % i\n",
    "        t2.sandbox    = sandbox\n",
    "        s2.add_tasks(t2)\n",
    "    \n",
    "    return s2"
   ]
  },
  {
   "cell_type": "code",
   "execution_count": null,
   "id": "f1a19205-7a0c-4e29-8ffc-73194e3ab69f",
   "metadata": {},
   "outputs": [],
   "source": [
    "def get_stage_3(sandbox):\n",
    "    '''\n",
    "    third stage: compute sum over all powers\n",
    "    '''\n",
    "    \n",
    "    s3 = re.Stage()\n",
    "\n",
    "    t3 = re.Task()\n",
    "    t3.executable = '/bin/sh'\n",
    "    t3.arguments  = ['-c', 'cat power.*.txt | paste -sd+ | bc']\n",
    "    t3.stdout     = 'sum.txt'\n",
    "    t3.sandbox    = sandbox\n",
    "\n",
    "    # download the result while renaming to get unique files per pipeline\n",
    "    t3.download_output_data = ['sum.txt > %s.sum.txt' % sandbox]\n",
    "    \n",
    "    s3.add_tasks(t3)\n",
    "    return s3"
   ]
  },
  {
   "cell_type": "code",
   "execution_count": null,
   "id": "396cb007",
   "metadata": {
    "ExecuteTime": {
     "end_time": "2022-11-22T12:17:59.795986Z",
     "start_time": "2022-11-22T12:17:59.787028Z"
    }
   },
   "outputs": [],
   "source": [
    "def generate_pipeline(uid):\n",
    "    '''\n",
    "    Generate a single simulation pipeline, i.e., a new ensemble member.\n",
    "    The pipeline structure consisting of three steps as described above.\n",
    "    '''\n",
    "\n",
    "    # all tasks in this pipeline share the same sandbox\n",
    "    sandbox = uid\n",
    "\n",
    "    # assemble three stages into a pipeline and return it\n",
    "    p = re.Pipeline()\n",
    "    p.add_stages([get_stage_1(sandbox), \n",
    "                  get_stage_2(sandbox), \n",
    "                  get_stage_3(sandbox)])\n",
    "\n",
    "    return p"
   ]
  },
  {
   "cell_type": "code",
   "execution_count": null,
   "id": "93008de1",
   "metadata": {
    "ExecuteTime": {
     "end_time": "2022-11-22T12:18:01.131849Z",
     "start_time": "2022-11-22T12:18:01.127959Z"
    }
   },
   "outputs": [],
   "source": [
    "%env RADICAL_LOG_LVL=OFF\n",
    "%env RADICAL_REPORT=TRUE\n",
    "%env RADICAL_REPORT_ANIME=FALSE"
   ]
  },
  {
   "cell_type": "markdown",
   "id": "ac289f3f",
   "metadata": {},
   "source": [
    "Now we write the ensemble application. We create an EnTK's application manager which executes our ensemble."
   ]
  },
  {
   "cell_type": "code",
   "execution_count": null,
   "id": "6099dc3e",
   "metadata": {
    "ExecuteTime": {
     "end_time": "2022-11-22T12:18:05.184338Z",
     "start_time": "2022-11-22T12:18:05.116044Z"
    }
   },
   "outputs": [],
   "source": [
    "appman = re.AppManager()"
   ]
  },
  {
   "cell_type": "markdown",
   "id": "d1d09986",
   "metadata": {},
   "source": [
    "We assign resource request description to the application manager using three mandatory keys: target resource, walltime, and number of cpus:"
   ]
  },
  {
   "cell_type": "code",
   "execution_count": null,
   "id": "8bdf0026",
   "metadata": {
    "ExecuteTime": {
     "end_time": "2022-11-22T12:18:12.436762Z",
     "start_time": "2022-11-22T12:18:12.430867Z"
    }
   },
   "outputs": [],
   "source": [
    "appman.resource_desc = {\n",
    "    'resource': 'local.localhost',\n",
    "    'walltime': 10,\n",
    "    'cpus'    : 2\n",
    "}"
   ]
  },
  {
   "cell_type": "markdown",
   "id": "a9dc2639",
   "metadata": {},
   "source": [
    "We create an ensemble of **n** simulation pipelines:"
   ]
  },
  {
   "cell_type": "code",
   "execution_count": null,
   "id": "b4cc5862",
   "metadata": {
    "ExecuteTime": {
     "end_time": "2022-11-22T12:18:16.824048Z",
     "start_time": "2022-11-22T12:18:16.782178Z"
    }
   },
   "outputs": [],
   "source": [
    "n_pipelines = 2\n",
    "\n",
    "ensemble = set()\n",
    "for cnt in range(n_pipelines):\n",
    "    ensemble.add(generate_pipeline(uid='pipe.%03d' % cnt))"
   ]
  },
  {
   "cell_type": "markdown",
   "id": "7733826a",
   "metadata": {},
   "source": [
    "We assign the workflow to the application manager, then run the ensemble and wait for completion:"
   ]
  },
  {
   "cell_type": "code",
   "execution_count": null,
   "id": "4e42ba7d",
   "metadata": {
    "ExecuteTime": {
     "end_time": "2022-11-22T12:20:19.608869Z",
     "start_time": "2022-11-22T12:18:19.196091Z"
    }
   },
   "outputs": [],
   "source": [
    "appman.workflow = ensemble\n",
    "appman.run()"
   ]
  },
  {
   "cell_type": "markdown",
   "id": "f8376e48",
   "metadata": {},
   "source": [
    "We check results which were staged back"
   ]
  },
  {
   "cell_type": "code",
   "execution_count": null,
   "id": "7694b4fe",
   "metadata": {
    "ExecuteTime": {
     "end_time": "2022-11-22T12:20:36.183392Z",
     "start_time": "2022-11-22T12:20:36.176650Z"
    }
   },
   "outputs": [],
   "source": [
    "for cnt in range(n_pipelines):\n",
    "    data = open('pipe.%03d.sum.txt' % cnt).read()\n",
    "    print('%3d -- %25d' % (cnt, int(data)))"
   ]
  }
 ],
 "metadata": {
  "kernelspec": {
   "display_name": "Python 3 (ipykernel)",
   "language": "python",
   "name": "python3"
  },
  "language_info": {
   "codemirror_mode": {
    "name": "ipython",
    "version": 3
   },
   "file_extension": ".py",
   "mimetype": "text/x-python",
   "name": "python",
   "nbconvert_exporter": "python",
   "pygments_lexer": "ipython3",
   "version": "3.9.13"
  },
  "varInspector": {
   "cols": {
    "lenName": 16,
    "lenType": 16,
    "lenVar": 40
   },
   "kernels_config": {
    "python": {
     "delete_cmd_postfix": "",
     "delete_cmd_prefix": "del ",
     "library": "var_list.py",
     "varRefreshCmd": "print(var_dic_list())"
    },
    "r": {
     "delete_cmd_postfix": ") ",
     "delete_cmd_prefix": "rm(",
     "library": "var_list.r",
     "varRefreshCmd": "cat(var_dic_list()) "
    }
   },
   "types_to_exclude": [
    "module",
    "function",
    "builtin_function_or_method",
    "instance",
    "_Feature"
   ],
   "window_display": false
  }
 },
 "nbformat": 4,
 "nbformat_minor": 5
}
