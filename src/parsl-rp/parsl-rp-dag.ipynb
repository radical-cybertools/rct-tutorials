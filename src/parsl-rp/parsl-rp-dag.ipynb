{
 "cells": [
  {
   "cell_type": "markdown",
   "id": "6de66e16",
   "metadata": {},
   "source": [
    "# Executing DAG Workflows with Parsl-RP\n",
    "In this tutorial, we will execute a simple DAG (Directed Acyclic Graph) with Parsl-RP, which involves leveraging the Parsl data flow management and the Radical Pilot (RP) workload management to facilitate the concurrent execution of tasks."
   ]
  },
  {
   "cell_type": "markdown",
   "id": "87581288-89f4-41d4-b951-b770a0956196",
   "metadata": {},
   "source": [
    "<div style=\"text-align:center\"><img src=\"https://airflow.apache.org/docs/apache-airflow/stable/_images/basic-dag.png\" alt=\"my image\" width=\"30%\"></div>}"
   ]
  },
  {
   "cell_type": "code",
   "execution_count": null,
   "id": "ba1877d8",
   "metadata": {
    "ExecuteTime": {
     "end_time": "2022-11-22T12:17:48.357841Z",
     "start_time": "2022-11-22T12:17:47.458237Z"
    }
   },
   "outputs": [],
   "source": [
    "# make sure Parsl is installed\n",
    "!pip show parsl"
   ]
  },
  {
   "cell_type": "code",
   "execution_count": null,
   "id": "84004f91",
   "metadata": {},
   "outputs": [],
   "source": [
    "# make sure RCT tools are installed and up to date\n",
    "! radical-stack"
   ]
  },
  {
   "cell_type": "markdown",
   "id": "39d40bda",
   "metadata": {},
   "source": [
    "First, let's import Parsl and RP Python modules in our application, alongside the RadicalPilotExecutor (RPEX) from Parsl"
   ]
  },
  {
   "cell_type": "code",
   "execution_count": null,
   "id": "6980a500",
   "metadata": {},
   "outputs": [],
   "source": [
    "import parsl\n",
    "from parsl.config import Config\n",
    "from parsl.app.app import python_app, bash_app\n",
    "from parsl.executors.radical import ResourceConfig\n",
    "from parsl.executors.radical import RadicalPilotExecutor"
   ]
  },
  {
   "cell_type": "markdown",
   "id": "18286edc-a2b5-4f9e-974b-d0d95a627118",
   "metadata": {},
   "source": [
    "Now, let's declare the `Resource Config`, which helps the RCT runtime system to determine how many resources are required for RAPTOR engine. In our case, we do not specify any and let RCT use the default (4 cores)"
   ]
  },
  {
   "cell_type": "code",
   "execution_count": null,
   "id": "f95b2af9-0e35-4acb-8912-9dcabbb73880",
   "metadata": {},
   "outputs": [],
   "source": [
    "rpex_cfg = ResourceConfig()"
   ]
  },
  {
   "cell_type": "markdown",
   "id": "b993e402-7e45-4182-81f2-6fe4ee81b46b",
   "metadata": {},
   "source": [
    "Now, let's create a Parsl Config which helps Parsl to identiy which executor to run the tasks on."
   ]
  },
  {
   "cell_type": "code",
   "execution_count": null,
   "id": "40ab3613-e5b1-4935-a0fc-a05ddc2125c3",
   "metadata": {},
   "outputs": [],
   "source": [
    "config = Config(executors=[RadicalPilotExecutor(\n",
    "                           label='RPEXBulk',\n",
    "                           rpex_cfg=rpex_cfg,\n",
    "                           resource='local.localhost',\n",
    "                           runtime=30, cores=8)])\n",
    "\n",
    "radical_executor = config.executors[0]"
   ]
  },
  {
   "cell_type": "markdown",
   "id": "ca1cbaf2-aaf5-44b4-995c-09e9c7245605",
   "metadata": {},
   "source": [
    "Now, let's load the the config via Parsl"
   ]
  },
  {
   "cell_type": "code",
   "execution_count": null,
   "id": "56b2a59e-cded-43ce-94c0-944b0ea3562f",
   "metadata": {},
   "outputs": [],
   "source": [
    "parsl.load(config)"
   ]
  },
  {
   "cell_type": "code",
   "execution_count": null,
   "id": "77692350",
   "metadata": {
    "ExecuteTime": {
     "end_time": "2022-11-22T12:17:57.635805Z",
     "start_time": "2022-11-22T12:17:57.340827Z"
    }
   },
   "outputs": [],
   "source": [
    "@python_app\n",
    "def task_a(a):\n",
    "    import random\n",
    "    b = random.randint(1, 10)\n",
    "    c = random.randint(1, 10)\n",
    "    return b, c\n",
    "\n",
    "@python_app\n",
    "def task_b(b, parsl_resource_specification={}):\n",
    "    return b * 2\n",
    "\n",
    "@python_app\n",
    "def task_c(c, parsl_resource_specification={}):\n",
    "\n",
    "    return c * 2\n",
    "\n",
    "# Reduce function that returns the sum of a list\n",
    "@python_app\n",
    "def task_d(inputs):\n",
    "    x = sum(inputs)\n",
    "    return x\n",
    "\n",
    "# task_a will run first to generate two numbers and pass them to\n",
    "# task_b and task_c\n",
    "t1 = task_a(100)\n",
    "b, c = t1.result()\n",
    "print('Task-A is Finished')\n",
    "\n",
    "\n",
    "# t2 and t3 will run conccurently\n",
    "t2 = task_b(b, parsl_resource_specification={'ranks':1})\n",
    "t3 = task_c(c, parsl_resource_specification={'ranks':1})\n",
    "\n",
    "# t4 will run after t2 and t3 finishes\n",
    "t4 = task_d([t2.result(), t3.result()])\n",
    "print('Task-B is Finished', 'Task-C is Finished')\n",
    "\n",
    "# Now, let's print the results of our final task\n",
    "print('Task-D result:', t4.result())"
   ]
  },
  {
   "cell_type": "markdown",
   "id": "e198583e",
   "metadata": {},
   "source": [
    "Finally, shutdown the executor, otherwise it will always stays ready to get more tasks"
   ]
  },
  {
   "cell_type": "code",
   "execution_count": null,
   "id": "6d044d15-3678-4d0f-9e36-d4bd50664689",
   "metadata": {},
   "outputs": [],
   "source": [
    "radical_executor.shutdown()"
   ]
  }
 ],
 "metadata": {
  "kernelspec": {
   "display_name": "Python 3 (ipykernel)",
   "language": "python",
   "name": "python3"
  },
  "language_info": {
   "codemirror_mode": {
    "name": "ipython",
    "version": 3
   },
   "file_extension": ".py",
   "mimetype": "text/x-python",
   "name": "python",
   "nbconvert_exporter": "python",
   "pygments_lexer": "ipython3",
   "version": "3.8.10"
  },
  "varInspector": {
   "cols": {
    "lenName": 16,
    "lenType": 16,
    "lenVar": 40
   },
   "kernels_config": {
    "python": {
     "delete_cmd_postfix": "",
     "delete_cmd_prefix": "del ",
     "library": "var_list.py",
     "varRefreshCmd": "print(var_dic_list())"
    },
    "r": {
     "delete_cmd_postfix": ") ",
     "delete_cmd_prefix": "rm(",
     "library": "var_list.r",
     "varRefreshCmd": "cat(var_dic_list()) "
    }
   },
   "types_to_exclude": [
    "module",
    "function",
    "builtin_function_or_method",
    "instance",
    "_Feature"
   ],
   "window_display": false
  }
 },
 "nbformat": 4,
 "nbformat_minor": 5
}
