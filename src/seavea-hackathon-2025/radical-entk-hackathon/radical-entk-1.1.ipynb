{
 "cells": [
  {
   "cell_type": "markdown",
   "id": "77f680e6",
   "metadata": {},
   "source": [
    "# RADICAL-Cybertools: RADICAL-EnTK Tutorial\n",
    "\n",
    "One has to handle RADICAL-EnTK applications with some care when running them in a Jupyter notebook.  In particular one should avoid to run cells out of order.  It is usually best to cleanly terminate the kernel before rerunning any / all cells.  This notebook thus puts the exercise code into a *single* cell which you can edit freely and then execute.\n",
    "\n",
    "## Exercise 1: Change the number of ensemble members (number of pipelines) and number of simulations per pipeline \n",
    "  - Your are presumably running on a small resource - be gentle ;-)\n",
    "  - Look at the `for` loop in the program's `main` section\n",
    "  - Look at the construction of Stage 2 (`s2`)\n"
   ]
  },
  {
   "cell_type": "code",
   "execution_count": null,
   "id": "9742b369-d519-40bf-9e42-a4680483553e",
   "metadata": {},
   "outputs": [],
   "source": [
    "%env RADICAL_LOG_LVL=OFF\n",
    "%env RADICAL_REPORT=TRUE\n",
    "%env RADICAL_REPORT_ANIME=FALSE"
   ]
  },
  {
   "cell_type": "code",
   "execution_count": null,
   "id": "80b0eb43-ed5c-45cc-888f-c1dfd8373638",
   "metadata": {
    "ExecuteTime": {
     "end_time": "2022-11-22T12:20:36.183392Z",
     "start_time": "2022-11-22T12:20:36.176650Z"
    }
   },
   "outputs": [],
   "source": [
    "import radical.entk as re\n",
    "\n",
    "\n",
    "def get_stage_1(sandbox):\n",
    "    '''\n",
    "    first stage: create 1 task to generate a random seed number\n",
    "    '''\n",
    "    \n",
    "    s1 = re.Stage()\n",
    "\n",
    "    t1 = re.Task()\n",
    "    t1.executable = '/bin/sh'\n",
    "    t1.arguments  = ['-c', 'od -An -N1 -i /dev/random']\n",
    "    t1.stdout     = 'random.txt'\n",
    "    t1.sandbox    = sandbox\n",
    "\n",
    "    s1.add_tasks(t1)\n",
    "    return s1\n",
    "\n",
    "\n",
    "def get_stage_2(sandbox):\n",
    "    '''\n",
    "    second stage: create 10 tasks to compute the n'th power of a random seed\n",
    "    '''\n",
    "    \n",
    "    s2 = re.Stage()\n",
    "\n",
    "    n_simulations = 5\n",
    "    for i in range(n_simulations):\n",
    "        t2 = re.Task()\n",
    "        t2.executable = '/bin/sh'\n",
    "        t2.arguments  = ['-c', \"echo '$(cat random.txt) ^ %d' | bc\" % i]\n",
    "        t2.stdout     = 'power.%03d.txt' % i\n",
    "        t2.sandbox    = sandbox\n",
    "        s2.add_tasks(t2)\n",
    "    \n",
    "    return s2\n",
    "\n",
    "\n",
    "def get_stage_3(sandbox):\n",
    "    '''\n",
    "    third stage: compute sum over all powers\n",
    "    '''\n",
    "    \n",
    "    s3 = re.Stage()\n",
    "\n",
    "    t3 = re.Task()\n",
    "    t3.executable = '/bin/sh'\n",
    "    t3.arguments  = ['-c', 'cat power.*.txt | paste -sd+ | bc']\n",
    "    t3.stdout     = 'sum.txt'\n",
    "    t3.sandbox    = sandbox\n",
    "\n",
    "    # download the result while renaming to get unique files per pipeline\n",
    "    t3.download_output_data = ['sum.txt > %s.sum.txt' % sandbox]\n",
    "    \n",
    "    s3.add_tasks(t3)\n",
    "    return s3\n",
    "\n",
    "\n",
    "def generate_pipeline(uid):\n",
    "    '''\n",
    "    Generate a single simulation pipeline, i.e., a new ensemble member.\n",
    "    The pipeline structure consisting of three steps as described above.\n",
    "    '''\n",
    "\n",
    "    # all tasks in this pipeline share the same sandbox\n",
    "    sandbox = uid\n",
    "\n",
    "    # assemble three stages into a pipeline and return it\n",
    "    p = re.Pipeline()\n",
    "    p.add_stages([get_stage_1(sandbox), \n",
    "                  get_stage_2(sandbox), \n",
    "                  get_stage_3(sandbox)])\n",
    "\n",
    "    return p\n",
    "\n",
    "appman = re.AppManager()\n",
    "\n",
    "appman.resource_desc = {\n",
    "    'resource': 'local.localhost',\n",
    "    'walltime': 10,\n",
    "    'cpus'    : 2\n",
    "}\n",
    "\n",
    "n_pipelines = 2\n",
    "\n",
    "ensemble = set()\n",
    "for cnt in range(n_pipelines):\n",
    "    ensemble.add(generate_pipeline(uid='pipe.%03d' % cnt))\n",
    "\n",
    "appman.workflow = ensemble\n",
    "appman.run()\n",
    "\n",
    "for cnt in range(n_pipelines):\n",
    "    data = open('pipe.%03d.sum.txt' % cnt).read()\n",
    "    print('%3d -- %25d' % (cnt, int(data)))"
   ]
  }
 ],
 "metadata": {
  "kernelspec": {
   "display_name": "Python 3 (ipykernel)",
   "language": "python",
   "name": "python3"
  },
  "language_info": {
   "codemirror_mode": {
    "name": "ipython",
    "version": 3
   },
   "file_extension": ".py",
   "mimetype": "text/x-python",
   "name": "python",
   "nbconvert_exporter": "python",
   "pygments_lexer": "ipython3",
   "version": "3.9.13"
  },
  "varInspector": {
   "cols": {
    "lenName": 16,
    "lenType": 16,
    "lenVar": 40
   },
   "kernels_config": {
    "python": {
     "delete_cmd_postfix": "",
     "delete_cmd_prefix": "del ",
     "library": "var_list.py",
     "varRefreshCmd": "print(var_dic_list())"
    },
    "r": {
     "delete_cmd_postfix": ") ",
     "delete_cmd_prefix": "rm(",
     "library": "var_list.r",
     "varRefreshCmd": "cat(var_dic_list()) "
    }
   },
   "types_to_exclude": [
    "module",
    "function",
    "builtin_function_or_method",
    "instance",
    "_Feature"
   ],
   "window_display": false
  }
 },
 "nbformat": 4,
 "nbformat_minor": 5
}
