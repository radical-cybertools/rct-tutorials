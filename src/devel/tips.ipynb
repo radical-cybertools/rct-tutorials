{
 "cells": [
  {
   "cell_type": "markdown",
   "id": "418cd622-789e-49fb-8ed8-67a9f29b8a81",
   "metadata": {},
   "source": [
    "## Set fonts for `matplotlib`"
   ]
  },
  {
   "cell_type": "code",
   "execution_count": null,
   "id": "69c93ebf-3c34-4cfd-8505-a52e27ee3eae",
   "metadata": {},
   "outputs": [],
   "source": [
    "import os\n",
    "\n",
    "import matplotlib              as mpl\n",
    "import matplotlib.font_manager as fm"
   ]
  },
  {
   "cell_type": "code",
   "execution_count": null,
   "id": "9398e372-0f52-447b-9091-7d3e1084e71f",
   "metadata": {},
   "outputs": [],
   "source": [
    "font_paths = fm.findSystemFonts(os.path.join(os.getcwd(), 'fonts'))\n",
    "\n",
    "for path in font_paths:\n",
    "    fm.fontManager.addfont(path)\n",
    "\n",
    "mpl.rcParams['font.family'] = 'serif'\n",
    "mpl.rcParams['font.serif']  = ['Nimbus Roman Becker No9L']\n",
    "mpl.rcParams['text.usetex'] = False"
   ]
  }
 ],
 "metadata": {
  "kernelspec": {
   "display_name": "Python [conda env:rct]",
   "language": "python",
   "name": "conda-env-rct-py"
  },
  "language_info": {
   "codemirror_mode": {
    "name": "ipython",
    "version": 3
   },
   "file_extension": ".py",
   "mimetype": "text/x-python",
   "name": "python",
   "nbconvert_exporter": "python",
   "pygments_lexer": "ipython3",
   "version": "3.9.16"
  }
 },
 "nbformat": 4,
 "nbformat_minor": 5
}
