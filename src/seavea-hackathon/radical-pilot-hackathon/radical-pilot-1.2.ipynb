{
 "cells": [
  {
   "cell_type": "markdown",
   "metadata": {},
   "source": [
    "# RADICAL-Cybertools: RADICAL-EnTK Pilot\n",
    "\n",
    "One has to handle RADICAL-Pilot applications with some care when running them in a Jupyter notebook.  In particular one should avoid to run cells out of order.  It is usually best to cleanly terminate the kernel before rerunning any / all cells.  This notebook thus puts the exercise code into a *single* cell which you can edit freely and then execute.\n",
    "\n",
    "## Exercise 2: stage results back to the client side\n",
    "  - check out the `staging_output` property on the task description\n",
    "  - use the [RP documentation](https://radicalpilot.readthedocs.io/en/stable/tutorials/staging_data.html) for reference"
   ]
  },
  {
   "cell_type": "code",
   "execution_count": null,
   "metadata": {},
   "outputs": [],
   "source": [
    "import radical.pilot as rp\n",
    "\n",
    "import radical.utils as ru\n",
    "\n",
    "report = ru.Reporter(name='radical.pilot')\n",
    "report.title('Getting Started (RP version %s)' % rp.version)\n",
    "\n",
    "session = rp.Session()\n",
    "\n",
    "pmgr = rp.PilotManager(session=session)\n",
    "\n",
    "pd_init = {'resource'     : 'local.localhost',\n",
    "           'runtime'      : 30,  # pilot runtime minutes\n",
    "           'exit_on_error': True,\n",
    "           'project'      : None,\n",
    "           'queue'        : None,\n",
    "           'cores'        : 4,\n",
    "           'gpus'         : 0,\n",
    "           'exit_on_error': False}\n",
    "pdesc = rp.PilotDescription(pd_init)\n",
    "\n",
    "report.header('submit pilot')\n",
    "pilot = pmgr.submit_pilots(pdesc)\n",
    "\n",
    "tmgr = rp.TaskManager(session=session)\n",
    "\n",
    "tmgr.add_pilots(pilot)\n",
    "\n",
    "import os\n",
    "import random\n",
    "\n",
    "n = 10\n",
    "\n",
    "report.progress_tgt(n, label='create')\n",
    "tds = list()\n",
    "for i in range(n):\n",
    "\n",
    "    td = rp.TaskDescription()\n",
    "    td.executable     = 'radical-pilot-hello.sh'\n",
    "    td.arguments      = [10]\n",
    "    td.ranks          = 1\n",
    "    td.cores_per_rank = 1\n",
    "\n",
    "    tds.append(td)\n",
    "    report.progress()\n",
    "\n",
    "report.progress_done()\n",
    "\n",
    "report.header('submit %d tasks' % n)\n",
    "tmgr.submit_tasks(tds)\n",
    "\n",
    "tmgr.wait_tasks()\n",
    "\n",
    "report.header('finalize')\n",
    "session.close(cleanup=True)"
   ]
  },
  {
   "cell_type": "code",
   "execution_count": null,
   "metadata": {},
   "outputs": [],
   "source": [
    "! ls $HOME/radical.pilot.sandbox/rp.session.*/pilot*/task.000000/\n",
    "! cat `ls $HOME/radical.pilot.sandbox/rp.session.*/pilot*/task.000000/task.000000.out`"
   ]
  }
 ],
 "metadata": {
  "kernelspec": {
   "display_name": "Python 3 (ipykernel)",
   "language": "python",
   "name": "python3"
  },
  "language_info": {
   "codemirror_mode": {
    "name": "ipython",
    "version": 3
   },
   "file_extension": ".py",
   "mimetype": "text/x-python",
   "name": "python",
   "nbconvert_exporter": "python",
   "pygments_lexer": "ipython3",
   "version": "3.11.4"
  }
 },
 "nbformat": 4,
 "nbformat_minor": 4
}
